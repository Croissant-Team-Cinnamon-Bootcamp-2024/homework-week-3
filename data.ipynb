{
 "cells": [
  {
   "cell_type": "code",
   "execution_count": null,
   "metadata": {},
   "outputs": [],
   "source": [
    "!pip install roboflow\n",
    "import roboflow\n",
    "\n",
    "roboflow.login()\n",
    "\n",
    "roboflow.download_dataset(dataset_url=\"https://universe.roboflow.com/team-roboflow/coco-128/dataset/2\", model_format=\"coco\", location=\"data/coco-128\")"
   ]
  },
  {
   "cell_type": "code",
   "execution_count": 1,
   "metadata": {},
   "outputs": [
    {
     "name": "stderr",
     "output_type": "stream",
     "text": [
      "100%|███████████████████████████████████████| 338M/338M [01:27<00:00, 4.03MiB/s]\n"
     ]
    },
    {
     "name": "stdout",
     "output_type": "stream",
     "text": [
      "128\n"
     ]
    },
    {
     "name": "stderr",
     "output_type": "stream",
     "text": [
      "/home/kieusontung/homework-week-3/w3_2/lib/python3.12/site-packages/torch/nn/modules/conv.py:456: UserWarning: Applied workaround for CuDNN issue, install nvrtc.so (Triggered internally at ../aten/src/ATen/native/cudnn/Conv_v8.cpp:84.)\n",
      "  return F.conv2d(input, weight, bias, self.stride,\n"
     ]
    }
   ],
   "source": [
    "\n",
    "# !pip install faiss-gpu\n",
    "# !pip3 install torch torchvision torchaudio --index-url https://download.pytorch.org/whl/cu118\n",
    "import glob\n",
    "import json\n",
    "from PIL import Image\n",
    "from pathlib import Path\n",
    "\n",
    "import clip\n",
    "import faiss\n",
    "import torch\n",
    "import numpy as np\n",
    "from torch.utils.data import DataLoader, Dataset\n",
    "\n",
    "\n",
    "class ImageDataset(Dataset):\n",
    "    def __init__(self, image_paths, preprocess):\n",
    "        self.image_paths = image_paths\n",
    "        self.preprocess = preprocess\n",
    "\n",
    "    def __len__(self):\n",
    "        return len(self.image_paths)\n",
    "\n",
    "    def __getitem__(self, idx):\n",
    "        image_path = self.image_paths[idx]\n",
    "        image = Image.open(image_path)\n",
    "        image = self.preprocess(image)\n",
    "        return image\n",
    "\n",
    "\n",
    "def get_data_paths(dir: str | list[str], data_formats: list, prefix: str = '') -> list[str]:\n",
    "    \"\"\"\n",
    "    Get list of files in a folder that have a file extension in the data_formats.\n",
    "\n",
    "    Args:\n",
    "      dir (str | list[str]): Dir or list of dirs containing data.\n",
    "      data_formats (list): List of file extensions. Ex: ['jpg', 'png']\n",
    "      prefix (str): Prefix for logging messages.\n",
    "\n",
    "    Returns:\n",
    "      A list of strings.\n",
    "    \"\"\"\n",
    "    try:\n",
    "        f = []  # data files\n",
    "        for d in dir if isinstance(dir, list) else [dir]:\n",
    "            p = Path(d)\n",
    "            if p.is_dir():\n",
    "                f += glob.glob(str(p / '**' / '*.*'), recursive=True)\n",
    "            else:\n",
    "                raise FileNotFoundError(f'{prefix}{p} does not exist')\n",
    "        data_files = sorted(x for x in f if x.split('.')[-1].lower() in data_formats)\n",
    "        return data_files\n",
    "    except Exception as e:\n",
    "        raise Exception(f'{prefix}Error loading data from {dir}: {e}') from e\n",
    "\n",
    "\n",
    "def get_image_embeddings(data_dir, model_name=\"ViT-B/32\", batch_size=32, device=\"cpu\"):\n",
    "    # Load the CLIP model\n",
    "    model, preprocess = clip.load(model_name, device=device)\n",
    "    \n",
    "    # Create a dataset and dataloader\n",
    "    image_paths = get_data_paths(data_dir, data_formats=[\"jpg\", \"jpeg\", \"png\"])\n",
    "    print(len(image_paths))\n",
    "    dataset = ImageDataset(image_paths, preprocess)\n",
    "    dataloader = DataLoader(dataset, batch_size=batch_size, num_workers=4)\n",
    "    \n",
    "    # List to store image embeddings\n",
    "    image_embeddings = []\n",
    "\n",
    "    # Process images in batches\n",
    "    with torch.no_grad():\n",
    "        for images in dataloader:\n",
    "            images = images.to(device)\n",
    "            embeddings = model.encode_image(images)\n",
    "            embeddings /= embeddings.norm(dim=-1, keepdim=True)\n",
    "            image_embeddings.append(embeddings.cpu().numpy())\n",
    "\n",
    "    # Convert list to numpy array\n",
    "    image_embeddings = np.vstack(image_embeddings)\n",
    "    \n",
    "    return image_embeddings, image_paths\n",
    "\n",
    "\n",
    "def create_faiss_index(embeddings):\n",
    "    # Determine the dimensionality of the embeddings\n",
    "    d = embeddings.shape[1]\n",
    "    \n",
    "    # Initialize a FAISS index\n",
    "    index = faiss.IndexFlatL2(d)\n",
    "    \n",
    "    # Add embeddings to the index\n",
    "    index.add(embeddings)\n",
    "    \n",
    "    return index\n",
    "\n",
    "\n",
    "embeddings, image_paths = get_image_embeddings(\"data/coco-128/train\", device=\"cuda\")\n",
    "index = create_faiss_index(embeddings)\n",
    "faiss.write_index(index, \"data/index.faiss\")\n",
    "with open(\"data/image_paths.json\", \"w\") as f:\n",
    "    json.dump(image_paths, f, indent=4)"
   ]
  },
  {
   "cell_type": "code",
   "execution_count": 15,
   "metadata": {},
   "outputs": [
    {
     "ename": "AttributeError",
     "evalue": "module 'clip' has no attribute 'available_models'",
     "output_type": "error",
     "traceback": [
      "\u001b[0;31m---------------------------------------------------------------------------\u001b[0m",
      "\u001b[0;31mAttributeError\u001b[0m                            Traceback (most recent call last)",
      "Cell \u001b[0;32mIn[15], line 1\u001b[0m\n\u001b[0;32m----> 1\u001b[0m \u001b[43mclip\u001b[49m\u001b[38;5;241;43m.\u001b[39;49m\u001b[43mavailable_models\u001b[49m()\n",
      "\u001b[0;31mAttributeError\u001b[0m: module 'clip' has no attribute 'available_models'"
     ]
    }
   ],
   "source": [
    "clip.available_models()"
   ]
  },
  {
   "cell_type": "code",
   "execution_count": 7,
   "metadata": {},
   "outputs": [
    {
     "ename": "FileNotFoundError",
     "evalue": "[Errno 2] No such file or directory: '/home/kieusontung/homework-week-3/dataset/0.jpg'",
     "output_type": "error",
     "traceback": [
      "\u001b[0;31m---------------------------------------------------------------------------\u001b[0m",
      "\u001b[0;31mFileNotFoundError\u001b[0m                         Traceback (most recent call last)",
      "Cell \u001b[0;32mIn[7], line 10\u001b[0m\n\u001b[1;32m      8\u001b[0m \u001b[38;5;28;01mfor\u001b[39;00m i,path \u001b[38;5;129;01min\u001b[39;00m \u001b[38;5;28menumerate\u001b[39m(data):\n\u001b[1;32m      9\u001b[0m     image \u001b[38;5;241m=\u001b[39m Image\u001b[38;5;241m.\u001b[39mopen(path)\n\u001b[0;32m---> 10\u001b[0m     \u001b[43mimage\u001b[49m\u001b[38;5;241;43m.\u001b[39;49m\u001b[43msave\u001b[49m\u001b[43m(\u001b[49m\u001b[43mos\u001b[49m\u001b[38;5;241;43m.\u001b[39;49m\u001b[43mpath\u001b[49m\u001b[38;5;241;43m.\u001b[39;49m\u001b[43mjoin\u001b[49m\u001b[43m(\u001b[49m\u001b[38;5;124;43m\"\u001b[39;49m\u001b[38;5;124;43mdataset\u001b[39;49m\u001b[38;5;124;43m\"\u001b[39;49m\u001b[43m,\u001b[49m\u001b[38;5;124;43mf\u001b[39;49m\u001b[38;5;124;43m\"\u001b[39;49m\u001b[38;5;132;43;01m{\u001b[39;49;00m\u001b[43mi\u001b[49m\u001b[38;5;132;43;01m}\u001b[39;49;00m\u001b[38;5;124;43m.jpg\u001b[39;49m\u001b[38;5;124;43m\"\u001b[39;49m\u001b[43m)\u001b[49m\u001b[43m)\u001b[49m\n",
      "File \u001b[0;32m~/homework-week-3/w3_2/lib/python3.12/site-packages/PIL/Image.py:2563\u001b[0m, in \u001b[0;36mImage.save\u001b[0;34m(self, fp, format, **params)\u001b[0m\n\u001b[1;32m   2561\u001b[0m         fp \u001b[38;5;241m=\u001b[39m builtins\u001b[38;5;241m.\u001b[39mopen(filename, \u001b[38;5;124m\"\u001b[39m\u001b[38;5;124mr+b\u001b[39m\u001b[38;5;124m\"\u001b[39m)\n\u001b[1;32m   2562\u001b[0m     \u001b[38;5;28;01melse\u001b[39;00m:\n\u001b[0;32m-> 2563\u001b[0m         fp \u001b[38;5;241m=\u001b[39m \u001b[43mbuiltins\u001b[49m\u001b[38;5;241;43m.\u001b[39;49m\u001b[43mopen\u001b[49m\u001b[43m(\u001b[49m\u001b[43mfilename\u001b[49m\u001b[43m,\u001b[49m\u001b[43m \u001b[49m\u001b[38;5;124;43m\"\u001b[39;49m\u001b[38;5;124;43mw+b\u001b[39;49m\u001b[38;5;124;43m\"\u001b[39;49m\u001b[43m)\u001b[49m\n\u001b[1;32m   2564\u001b[0m \u001b[38;5;28;01melse\u001b[39;00m:\n\u001b[1;32m   2565\u001b[0m     fp \u001b[38;5;241m=\u001b[39m cast(IO[\u001b[38;5;28mbytes\u001b[39m], fp)\n",
      "\u001b[0;31mFileNotFoundError\u001b[0m: [Errno 2] No such file or directory: '/home/kieusontung/homework-week-3/dataset/0.jpg'"
     ]
    }
   ],
   "source": [
    "import json\n",
    "import os \n",
    "from PIL import Image\n",
    "dataset_file_path = \"data/image_paths.json\"\n",
    "with open(dataset_file_path, 'r') as file:\n",
    "    data = json.load(file)\n",
    "    \n",
    "os.makedirs(\"dataset\", exist_ok=True)\n",
    "for i,path in enumerate(data):\n",
    "    image = Image.open(path)\n",
    "    image.save(os.path.join(\"dataset\",f\"{i}.jpg\"))\n"
   ]
  },
  {
   "cell_type": "code",
   "execution_count": null,
   "metadata": {},
   "outputs": [],
   "source": []
  }
 ],
 "metadata": {
  "kernelspec": {
   "display_name": "w3_2",
   "language": "python",
   "name": "python3"
  },
  "language_info": {
   "codemirror_mode": {
    "name": "ipython",
    "version": 3
   },
   "file_extension": ".py",
   "mimetype": "text/x-python",
   "name": "python",
   "nbconvert_exporter": "python",
   "pygments_lexer": "ipython3",
   "version": "3.12.4"
  }
 },
 "nbformat": 4,
 "nbformat_minor": 2
}
